{
 "cells": [
  {
   "cell_type": "code",
   "execution_count": 1,
   "metadata": {},
   "outputs": [],
   "source": [
    "import numpy as np\n",
    "import pandas as pd\n",
    "pd.set_option('display.max_columns', 20)"
   ]
  },
  {
   "cell_type": "code",
   "execution_count": 2,
   "metadata": {},
   "outputs": [],
   "source": [
    "netflix = pd.read_csv(\"netflix_titles.csv.zip\")\n",
    "imdb = pd.read_csv(\"IMDB.csv.zip\")"
   ]
  },
  {
   "cell_type": "code",
   "execution_count": 3,
   "metadata": {},
   "outputs": [],
   "source": [
    "df = pd.DataFrame.join(netflix, imdb)"
   ]
  },
  {
   "cell_type": "code",
   "execution_count": 4,
   "metadata": {},
   "outputs": [],
   "source": [
    "df = df[df['IMDB_rating'] != 'Not Found']"
   ]
  },
  {
   "cell_type": "code",
   "execution_count": 5,
   "metadata": {},
   "outputs": [
    {
     "output_type": "execute_result",
     "data": {
      "text/plain": [
       "    show_id     type                                    title  \\\n",
       "0  81145628    Movie  Norm of the North: King Sized Adventure   \n",
       "1  80117401    Movie               Jandino: Whatever it Takes   \n",
       "2  70234439  TV Show                       Transformers Prime   \n",
       "3  80058654  TV Show         Transformers: Robots in Disguise   \n",
       "4  80125979    Movie                             #realityhigh   \n",
       "\n",
       "                   director  \\\n",
       "0  Richard Finn, Tim Maltby   \n",
       "1                       NaN   \n",
       "2                       NaN   \n",
       "3                       NaN   \n",
       "4          Fernando Lebrija   \n",
       "\n",
       "                                                cast  \\\n",
       "0  Alan Marriott, Andrew Toth, Brian Dobson, Cole...   \n",
       "1                                   Jandino Asporaat   \n",
       "2  Peter Cullen, Sumalee Montano, Frank Welker, J...   \n",
       "3  Will Friedle, Darren Criss, Constance Zimmer, ...   \n",
       "4  Nesta Cooper, Kate Walsh, John Michael Higgins...   \n",
       "\n",
       "                                    country         date_added  release_year  \\\n",
       "0  United States, India, South Korea, China  September 9, 2019          2019   \n",
       "1                            United Kingdom  September 9, 2016          2016   \n",
       "2                             United States  September 8, 2018          2013   \n",
       "3                             United States  September 8, 2018          2016   \n",
       "4                             United States  September 8, 2017          2017   \n",
       "\n",
       "     rating  duration                           listed_in  \\\n",
       "0     TV-PG    90 min  Children & Family Movies, Comedies   \n",
       "1     TV-MA    94 min                     Stand-Up Comedy   \n",
       "2  TV-Y7-FV  1 Season                            Kids' TV   \n",
       "3     TV-Y7  1 Season                            Kids' TV   \n",
       "4     TV-14    99 min                            Comedies   \n",
       "\n",
       "                                         description       IMDB_titleID  \\\n",
       "0  Before planning an awesome wedding for his gra...  /title/tt9428190/   \n",
       "1  Jandino Asporaat riffs on the challenges of ra...  /title/tt6999080/   \n",
       "2  With the help of three human allies, the Autob...  /title/tt1659175/   \n",
       "3  When a prison ship crash unleashes hundreds of...  /title/tt3604232/   \n",
       "4  When nerdy high schooler Dani finally attracts...  /title/tt6119504/   \n",
       "\n",
       "                       IMDB_rating  \\\n",
       "0    3.1 based on 235 user ratings   \n",
       "1     5.3 based on 15 user ratings   \n",
       "2  7.8 based on 4,891 user ratings   \n",
       "3    6.0 based on 764 user ratings   \n",
       "4  5.2 based on 4,866 user ratings   \n",
       "\n",
       "                                     IMDB_title_name  \n",
       "0    Norm of the North: King Sized Adventure (2019)   \n",
       "1    Jandino: Whatever it Takes (2016) (TV Special)   \n",
       "2             Transformers Prime (2010) (TV Series)   \n",
       "3   Transformers: Robots in Disguise (2014) (TV S...  \n",
       "4                               #REALITYHIGH (2017)   "
      ],
      "text/html": "<div>\n<style scoped>\n    .dataframe tbody tr th:only-of-type {\n        vertical-align: middle;\n    }\n\n    .dataframe tbody tr th {\n        vertical-align: top;\n    }\n\n    .dataframe thead th {\n        text-align: right;\n    }\n</style>\n<table border=\"1\" class=\"dataframe\">\n  <thead>\n    <tr style=\"text-align: right;\">\n      <th></th>\n      <th>show_id</th>\n      <th>type</th>\n      <th>title</th>\n      <th>director</th>\n      <th>cast</th>\n      <th>country</th>\n      <th>date_added</th>\n      <th>release_year</th>\n      <th>rating</th>\n      <th>duration</th>\n      <th>listed_in</th>\n      <th>description</th>\n      <th>IMDB_titleID</th>\n      <th>IMDB_rating</th>\n      <th>IMDB_title_name</th>\n    </tr>\n  </thead>\n  <tbody>\n    <tr>\n      <th>0</th>\n      <td>81145628</td>\n      <td>Movie</td>\n      <td>Norm of the North: King Sized Adventure</td>\n      <td>Richard Finn, Tim Maltby</td>\n      <td>Alan Marriott, Andrew Toth, Brian Dobson, Cole...</td>\n      <td>United States, India, South Korea, China</td>\n      <td>September 9, 2019</td>\n      <td>2019</td>\n      <td>TV-PG</td>\n      <td>90 min</td>\n      <td>Children &amp; Family Movies, Comedies</td>\n      <td>Before planning an awesome wedding for his gra...</td>\n      <td>/title/tt9428190/</td>\n      <td>3.1 based on 235 user ratings</td>\n      <td>Norm of the North: King Sized Adventure (2019)</td>\n    </tr>\n    <tr>\n      <th>1</th>\n      <td>80117401</td>\n      <td>Movie</td>\n      <td>Jandino: Whatever it Takes</td>\n      <td>NaN</td>\n      <td>Jandino Asporaat</td>\n      <td>United Kingdom</td>\n      <td>September 9, 2016</td>\n      <td>2016</td>\n      <td>TV-MA</td>\n      <td>94 min</td>\n      <td>Stand-Up Comedy</td>\n      <td>Jandino Asporaat riffs on the challenges of ra...</td>\n      <td>/title/tt6999080/</td>\n      <td>5.3 based on 15 user ratings</td>\n      <td>Jandino: Whatever it Takes (2016) (TV Special)</td>\n    </tr>\n    <tr>\n      <th>2</th>\n      <td>70234439</td>\n      <td>TV Show</td>\n      <td>Transformers Prime</td>\n      <td>NaN</td>\n      <td>Peter Cullen, Sumalee Montano, Frank Welker, J...</td>\n      <td>United States</td>\n      <td>September 8, 2018</td>\n      <td>2013</td>\n      <td>TV-Y7-FV</td>\n      <td>1 Season</td>\n      <td>Kids' TV</td>\n      <td>With the help of three human allies, the Autob...</td>\n      <td>/title/tt1659175/</td>\n      <td>7.8 based on 4,891 user ratings</td>\n      <td>Transformers Prime (2010) (TV Series)</td>\n    </tr>\n    <tr>\n      <th>3</th>\n      <td>80058654</td>\n      <td>TV Show</td>\n      <td>Transformers: Robots in Disguise</td>\n      <td>NaN</td>\n      <td>Will Friedle, Darren Criss, Constance Zimmer, ...</td>\n      <td>United States</td>\n      <td>September 8, 2018</td>\n      <td>2016</td>\n      <td>TV-Y7</td>\n      <td>1 Season</td>\n      <td>Kids' TV</td>\n      <td>When a prison ship crash unleashes hundreds of...</td>\n      <td>/title/tt3604232/</td>\n      <td>6.0 based on 764 user ratings</td>\n      <td>Transformers: Robots in Disguise (2014) (TV S...</td>\n    </tr>\n    <tr>\n      <th>4</th>\n      <td>80125979</td>\n      <td>Movie</td>\n      <td>#realityhigh</td>\n      <td>Fernando Lebrija</td>\n      <td>Nesta Cooper, Kate Walsh, John Michael Higgins...</td>\n      <td>United States</td>\n      <td>September 8, 2017</td>\n      <td>2017</td>\n      <td>TV-14</td>\n      <td>99 min</td>\n      <td>Comedies</td>\n      <td>When nerdy high schooler Dani finally attracts...</td>\n      <td>/title/tt6119504/</td>\n      <td>5.2 based on 4,866 user ratings</td>\n      <td>#REALITYHIGH (2017)</td>\n    </tr>\n  </tbody>\n</table>\n</div>"
     },
     "metadata": {},
     "execution_count": 5
    }
   ],
   "source": [
    "df.head()"
   ]
  },
  {
   "cell_type": "code",
   "execution_count": 6,
   "metadata": {},
   "outputs": [],
   "source": [
    "df = df.drop('IMDB_title_name', axis=1)"
   ]
  },
  {
   "cell_type": "code",
   "execution_count": 7,
   "metadata": {},
   "outputs": [],
   "source": [
    "seasons = []\n",
    "movie_duration = []\n",
    "for i in range(len(df)):\n",
    "    tmp = df.iloc[i]['duration']\n",
    "    number = tmp.split(\" \")[0]\n",
    "    if 'Season' in tmp:\n",
    "        seasons.append(number)\n",
    "        movie_duration.append(np.nan)\n",
    "    else:\n",
    "        seasons.append(np.nan)\n",
    "        movie_duration.append(number)"
   ]
  },
  {
   "cell_type": "code",
   "execution_count": 8,
   "metadata": {},
   "outputs": [],
   "source": [
    "df['seasons'] = seasons\n",
    "df['movie_duration'] = movie_duration"
   ]
  },
  {
   "cell_type": "code",
   "execution_count": 9,
   "metadata": {},
   "outputs": [
    {
     "output_type": "execute_result",
     "data": {
      "text/plain": [
       "    show_id     type                                    title  \\\n",
       "0  81145628    Movie  Norm of the North: King Sized Adventure   \n",
       "1  80117401    Movie               Jandino: Whatever it Takes   \n",
       "2  70234439  TV Show                       Transformers Prime   \n",
       "3  80058654  TV Show         Transformers: Robots in Disguise   \n",
       "4  80125979    Movie                             #realityhigh   \n",
       "\n",
       "                   director  \\\n",
       "0  Richard Finn, Tim Maltby   \n",
       "1                       NaN   \n",
       "2                       NaN   \n",
       "3                       NaN   \n",
       "4          Fernando Lebrija   \n",
       "\n",
       "                                                cast  \\\n",
       "0  Alan Marriott, Andrew Toth, Brian Dobson, Cole...   \n",
       "1                                   Jandino Asporaat   \n",
       "2  Peter Cullen, Sumalee Montano, Frank Welker, J...   \n",
       "3  Will Friedle, Darren Criss, Constance Zimmer, ...   \n",
       "4  Nesta Cooper, Kate Walsh, John Michael Higgins...   \n",
       "\n",
       "                                    country         date_added  release_year  \\\n",
       "0  United States, India, South Korea, China  September 9, 2019          2019   \n",
       "1                            United Kingdom  September 9, 2016          2016   \n",
       "2                             United States  September 8, 2018          2013   \n",
       "3                             United States  September 8, 2018          2016   \n",
       "4                             United States  September 8, 2017          2017   \n",
       "\n",
       "     rating  duration                           listed_in  \\\n",
       "0     TV-PG    90 min  Children & Family Movies, Comedies   \n",
       "1     TV-MA    94 min                     Stand-Up Comedy   \n",
       "2  TV-Y7-FV  1 Season                            Kids' TV   \n",
       "3     TV-Y7  1 Season                            Kids' TV   \n",
       "4     TV-14    99 min                            Comedies   \n",
       "\n",
       "                                         description       IMDB_titleID  \\\n",
       "0  Before planning an awesome wedding for his gra...  /title/tt9428190/   \n",
       "1  Jandino Asporaat riffs on the challenges of ra...  /title/tt6999080/   \n",
       "2  With the help of three human allies, the Autob...  /title/tt1659175/   \n",
       "3  When a prison ship crash unleashes hundreds of...  /title/tt3604232/   \n",
       "4  When nerdy high schooler Dani finally attracts...  /title/tt6119504/   \n",
       "\n",
       "                       IMDB_rating seasons movie_duration  \n",
       "0    3.1 based on 235 user ratings     NaN             90  \n",
       "1     5.3 based on 15 user ratings     NaN             94  \n",
       "2  7.8 based on 4,891 user ratings       1            NaN  \n",
       "3    6.0 based on 764 user ratings       1            NaN  \n",
       "4  5.2 based on 4,866 user ratings     NaN             99  "
      ],
      "text/html": "<div>\n<style scoped>\n    .dataframe tbody tr th:only-of-type {\n        vertical-align: middle;\n    }\n\n    .dataframe tbody tr th {\n        vertical-align: top;\n    }\n\n    .dataframe thead th {\n        text-align: right;\n    }\n</style>\n<table border=\"1\" class=\"dataframe\">\n  <thead>\n    <tr style=\"text-align: right;\">\n      <th></th>\n      <th>show_id</th>\n      <th>type</th>\n      <th>title</th>\n      <th>director</th>\n      <th>cast</th>\n      <th>country</th>\n      <th>date_added</th>\n      <th>release_year</th>\n      <th>rating</th>\n      <th>duration</th>\n      <th>listed_in</th>\n      <th>description</th>\n      <th>IMDB_titleID</th>\n      <th>IMDB_rating</th>\n      <th>seasons</th>\n      <th>movie_duration</th>\n    </tr>\n  </thead>\n  <tbody>\n    <tr>\n      <th>0</th>\n      <td>81145628</td>\n      <td>Movie</td>\n      <td>Norm of the North: King Sized Adventure</td>\n      <td>Richard Finn, Tim Maltby</td>\n      <td>Alan Marriott, Andrew Toth, Brian Dobson, Cole...</td>\n      <td>United States, India, South Korea, China</td>\n      <td>September 9, 2019</td>\n      <td>2019</td>\n      <td>TV-PG</td>\n      <td>90 min</td>\n      <td>Children &amp; Family Movies, Comedies</td>\n      <td>Before planning an awesome wedding for his gra...</td>\n      <td>/title/tt9428190/</td>\n      <td>3.1 based on 235 user ratings</td>\n      <td>NaN</td>\n      <td>90</td>\n    </tr>\n    <tr>\n      <th>1</th>\n      <td>80117401</td>\n      <td>Movie</td>\n      <td>Jandino: Whatever it Takes</td>\n      <td>NaN</td>\n      <td>Jandino Asporaat</td>\n      <td>United Kingdom</td>\n      <td>September 9, 2016</td>\n      <td>2016</td>\n      <td>TV-MA</td>\n      <td>94 min</td>\n      <td>Stand-Up Comedy</td>\n      <td>Jandino Asporaat riffs on the challenges of ra...</td>\n      <td>/title/tt6999080/</td>\n      <td>5.3 based on 15 user ratings</td>\n      <td>NaN</td>\n      <td>94</td>\n    </tr>\n    <tr>\n      <th>2</th>\n      <td>70234439</td>\n      <td>TV Show</td>\n      <td>Transformers Prime</td>\n      <td>NaN</td>\n      <td>Peter Cullen, Sumalee Montano, Frank Welker, J...</td>\n      <td>United States</td>\n      <td>September 8, 2018</td>\n      <td>2013</td>\n      <td>TV-Y7-FV</td>\n      <td>1 Season</td>\n      <td>Kids' TV</td>\n      <td>With the help of three human allies, the Autob...</td>\n      <td>/title/tt1659175/</td>\n      <td>7.8 based on 4,891 user ratings</td>\n      <td>1</td>\n      <td>NaN</td>\n    </tr>\n    <tr>\n      <th>3</th>\n      <td>80058654</td>\n      <td>TV Show</td>\n      <td>Transformers: Robots in Disguise</td>\n      <td>NaN</td>\n      <td>Will Friedle, Darren Criss, Constance Zimmer, ...</td>\n      <td>United States</td>\n      <td>September 8, 2018</td>\n      <td>2016</td>\n      <td>TV-Y7</td>\n      <td>1 Season</td>\n      <td>Kids' TV</td>\n      <td>When a prison ship crash unleashes hundreds of...</td>\n      <td>/title/tt3604232/</td>\n      <td>6.0 based on 764 user ratings</td>\n      <td>1</td>\n      <td>NaN</td>\n    </tr>\n    <tr>\n      <th>4</th>\n      <td>80125979</td>\n      <td>Movie</td>\n      <td>#realityhigh</td>\n      <td>Fernando Lebrija</td>\n      <td>Nesta Cooper, Kate Walsh, John Michael Higgins...</td>\n      <td>United States</td>\n      <td>September 8, 2017</td>\n      <td>2017</td>\n      <td>TV-14</td>\n      <td>99 min</td>\n      <td>Comedies</td>\n      <td>When nerdy high schooler Dani finally attracts...</td>\n      <td>/title/tt6119504/</td>\n      <td>5.2 based on 4,866 user ratings</td>\n      <td>NaN</td>\n      <td>99</td>\n    </tr>\n  </tbody>\n</table>\n</div>"
     },
     "metadata": {},
     "execution_count": 9
    }
   ],
   "source": [
    "df.head()"
   ]
  },
  {
   "cell_type": "code",
   "execution_count": 10,
   "metadata": {},
   "outputs": [],
   "source": [
    "df = df.drop('duration', axis=1)"
   ]
  },
  {
   "cell_type": "code",
   "execution_count": 11,
   "metadata": {},
   "outputs": [],
   "source": [
    "average_rating = [float(df.iloc[i]['IMDB_rating'].split(\" \")[0]) for i in range(len(df))]\n",
    "number_rating = [int((df.iloc[i]['IMDB_rating'].split(\" \")[3]).replace(',','')) for i in range(len(df))]"
   ]
  },
  {
   "cell_type": "code",
   "execution_count": 12,
   "metadata": {},
   "outputs": [],
   "source": [
    "df['average_rating'] = average_rating\n",
    "df['number_rating'] = number_rating"
   ]
  },
  {
   "cell_type": "code",
   "execution_count": 13,
   "metadata": {},
   "outputs": [
    {
     "output_type": "execute_result",
     "data": {
      "text/plain": [
       "    show_id     type                                    title  \\\n",
       "0  81145628    Movie  Norm of the North: King Sized Adventure   \n",
       "1  80117401    Movie               Jandino: Whatever it Takes   \n",
       "2  70234439  TV Show                       Transformers Prime   \n",
       "3  80058654  TV Show         Transformers: Robots in Disguise   \n",
       "4  80125979    Movie                             #realityhigh   \n",
       "\n",
       "                   director  \\\n",
       "0  Richard Finn, Tim Maltby   \n",
       "1                       NaN   \n",
       "2                       NaN   \n",
       "3                       NaN   \n",
       "4          Fernando Lebrija   \n",
       "\n",
       "                                                cast  \\\n",
       "0  Alan Marriott, Andrew Toth, Brian Dobson, Cole...   \n",
       "1                                   Jandino Asporaat   \n",
       "2  Peter Cullen, Sumalee Montano, Frank Welker, J...   \n",
       "3  Will Friedle, Darren Criss, Constance Zimmer, ...   \n",
       "4  Nesta Cooper, Kate Walsh, John Michael Higgins...   \n",
       "\n",
       "                                    country         date_added  release_year  \\\n",
       "0  United States, India, South Korea, China  September 9, 2019          2019   \n",
       "1                            United Kingdom  September 9, 2016          2016   \n",
       "2                             United States  September 8, 2018          2013   \n",
       "3                             United States  September 8, 2018          2016   \n",
       "4                             United States  September 8, 2017          2017   \n",
       "\n",
       "     rating                           listed_in  \\\n",
       "0     TV-PG  Children & Family Movies, Comedies   \n",
       "1     TV-MA                     Stand-Up Comedy   \n",
       "2  TV-Y7-FV                            Kids' TV   \n",
       "3     TV-Y7                            Kids' TV   \n",
       "4     TV-14                            Comedies   \n",
       "\n",
       "                                         description       IMDB_titleID  \\\n",
       "0  Before planning an awesome wedding for his gra...  /title/tt9428190/   \n",
       "1  Jandino Asporaat riffs on the challenges of ra...  /title/tt6999080/   \n",
       "2  With the help of three human allies, the Autob...  /title/tt1659175/   \n",
       "3  When a prison ship crash unleashes hundreds of...  /title/tt3604232/   \n",
       "4  When nerdy high schooler Dani finally attracts...  /title/tt6119504/   \n",
       "\n",
       "                       IMDB_rating seasons movie_duration  average_rating  \\\n",
       "0    3.1 based on 235 user ratings     NaN             90             3.1   \n",
       "1     5.3 based on 15 user ratings     NaN             94             5.3   \n",
       "2  7.8 based on 4,891 user ratings       1            NaN             7.8   \n",
       "3    6.0 based on 764 user ratings       1            NaN             6.0   \n",
       "4  5.2 based on 4,866 user ratings     NaN             99             5.2   \n",
       "\n",
       "   number_rating  \n",
       "0            235  \n",
       "1             15  \n",
       "2           4891  \n",
       "3            764  \n",
       "4           4866  "
      ],
      "text/html": "<div>\n<style scoped>\n    .dataframe tbody tr th:only-of-type {\n        vertical-align: middle;\n    }\n\n    .dataframe tbody tr th {\n        vertical-align: top;\n    }\n\n    .dataframe thead th {\n        text-align: right;\n    }\n</style>\n<table border=\"1\" class=\"dataframe\">\n  <thead>\n    <tr style=\"text-align: right;\">\n      <th></th>\n      <th>show_id</th>\n      <th>type</th>\n      <th>title</th>\n      <th>director</th>\n      <th>cast</th>\n      <th>country</th>\n      <th>date_added</th>\n      <th>release_year</th>\n      <th>rating</th>\n      <th>listed_in</th>\n      <th>description</th>\n      <th>IMDB_titleID</th>\n      <th>IMDB_rating</th>\n      <th>seasons</th>\n      <th>movie_duration</th>\n      <th>average_rating</th>\n      <th>number_rating</th>\n    </tr>\n  </thead>\n  <tbody>\n    <tr>\n      <th>0</th>\n      <td>81145628</td>\n      <td>Movie</td>\n      <td>Norm of the North: King Sized Adventure</td>\n      <td>Richard Finn, Tim Maltby</td>\n      <td>Alan Marriott, Andrew Toth, Brian Dobson, Cole...</td>\n      <td>United States, India, South Korea, China</td>\n      <td>September 9, 2019</td>\n      <td>2019</td>\n      <td>TV-PG</td>\n      <td>Children &amp; Family Movies, Comedies</td>\n      <td>Before planning an awesome wedding for his gra...</td>\n      <td>/title/tt9428190/</td>\n      <td>3.1 based on 235 user ratings</td>\n      <td>NaN</td>\n      <td>90</td>\n      <td>3.1</td>\n      <td>235</td>\n    </tr>\n    <tr>\n      <th>1</th>\n      <td>80117401</td>\n      <td>Movie</td>\n      <td>Jandino: Whatever it Takes</td>\n      <td>NaN</td>\n      <td>Jandino Asporaat</td>\n      <td>United Kingdom</td>\n      <td>September 9, 2016</td>\n      <td>2016</td>\n      <td>TV-MA</td>\n      <td>Stand-Up Comedy</td>\n      <td>Jandino Asporaat riffs on the challenges of ra...</td>\n      <td>/title/tt6999080/</td>\n      <td>5.3 based on 15 user ratings</td>\n      <td>NaN</td>\n      <td>94</td>\n      <td>5.3</td>\n      <td>15</td>\n    </tr>\n    <tr>\n      <th>2</th>\n      <td>70234439</td>\n      <td>TV Show</td>\n      <td>Transformers Prime</td>\n      <td>NaN</td>\n      <td>Peter Cullen, Sumalee Montano, Frank Welker, J...</td>\n      <td>United States</td>\n      <td>September 8, 2018</td>\n      <td>2013</td>\n      <td>TV-Y7-FV</td>\n      <td>Kids' TV</td>\n      <td>With the help of three human allies, the Autob...</td>\n      <td>/title/tt1659175/</td>\n      <td>7.8 based on 4,891 user ratings</td>\n      <td>1</td>\n      <td>NaN</td>\n      <td>7.8</td>\n      <td>4891</td>\n    </tr>\n    <tr>\n      <th>3</th>\n      <td>80058654</td>\n      <td>TV Show</td>\n      <td>Transformers: Robots in Disguise</td>\n      <td>NaN</td>\n      <td>Will Friedle, Darren Criss, Constance Zimmer, ...</td>\n      <td>United States</td>\n      <td>September 8, 2018</td>\n      <td>2016</td>\n      <td>TV-Y7</td>\n      <td>Kids' TV</td>\n      <td>When a prison ship crash unleashes hundreds of...</td>\n      <td>/title/tt3604232/</td>\n      <td>6.0 based on 764 user ratings</td>\n      <td>1</td>\n      <td>NaN</td>\n      <td>6.0</td>\n      <td>764</td>\n    </tr>\n    <tr>\n      <th>4</th>\n      <td>80125979</td>\n      <td>Movie</td>\n      <td>#realityhigh</td>\n      <td>Fernando Lebrija</td>\n      <td>Nesta Cooper, Kate Walsh, John Michael Higgins...</td>\n      <td>United States</td>\n      <td>September 8, 2017</td>\n      <td>2017</td>\n      <td>TV-14</td>\n      <td>Comedies</td>\n      <td>When nerdy high schooler Dani finally attracts...</td>\n      <td>/title/tt6119504/</td>\n      <td>5.2 based on 4,866 user ratings</td>\n      <td>NaN</td>\n      <td>99</td>\n      <td>5.2</td>\n      <td>4866</td>\n    </tr>\n  </tbody>\n</table>\n</div>"
     },
     "metadata": {},
     "execution_count": 13
    }
   ],
   "source": [
    "df.head()"
   ]
  },
  {
   "cell_type": "code",
   "execution_count": 14,
   "metadata": {
    "tags": []
   },
   "outputs": [
    {
     "output_type": "stream",
     "name": "stdout",
     "text": [
      "['Movie' 'TV Show']\n['TV-PG' 'TV-MA' 'TV-Y7-FV' 'TV-Y7' 'TV-14' 'R' 'PG-13' 'NR' 'TV-G' 'PG'\n 'TV-Y' 'G' nan 'UR' 'NC-17']\n"
     ]
    }
   ],
   "source": [
    "for col in ['type','rating']:\n",
    "    print(df[col].unique())"
   ]
  },
  {
   "cell_type": "code",
   "execution_count": 15,
   "metadata": {},
   "outputs": [],
   "source": [
    "df.rename(columns = {'rating':'parental_guideline'}, inplace = True)\n",
    "df.rename(columns = {'description':'summary'}, inplace = True)\n",
    "df.rename(columns = {'cast':'casting'}, inplace = True)\n",
    "df.rename(columns = {'type':'category'}, inplace = True)"
   ]
  },
  {
   "cell_type": "code",
   "execution_count": 16,
   "metadata": {},
   "outputs": [],
   "source": [
    "df = df.drop('IMDB_rating', axis=1)\n",
    "df = df.drop('show_id', axis=1)"
   ]
  },
  {
   "cell_type": "code",
<<<<<<< HEAD
   "execution_count": 29,
=======
   "execution_count": 17,
>>>>>>> 0eb32ec97ac001db4dd542cf313229bc1af3b5ef
   "metadata": {},
   "outputs": [
    {
     "output_type": "execute_result",
     "data": {
      "text/plain": [
       "         IMDB_titleID category                                    title  \\\n",
       "0   /title/tt9428190/    Movie  Norm of the North: King Sized Adventure   \n",
       "1   /title/tt6999080/    Movie               Jandino: Whatever it Takes   \n",
       "2   /title/tt1659175/  TV Show                       Transformers Prime   \n",
       "3   /title/tt3604232/  TV Show         Transformers: Robots in Disguise   \n",
       "4   /title/tt6119504/    Movie                             #realityhigh   \n",
       "5   /title/tt4418844/  TV Show                                  Apaches   \n",
       "6   /title/tt1971325/    Movie                                 Automata   \n",
       "7   /title/tt8134310/    Movie       Fabrizio Copano: Solo pienso en mi   \n",
       "8   /title/tt7293754/  TV Show                             Fire Chasers   \n",
       "9   /title/tt1361318/    Movie                              Good People   \n",
       "10  /title/tt2917388/    Movie                  Kidnapping Mr. Heineken   \n",
       "11  /title/tt2608324/    Movie                        Manhattan Romance   \n",
       "12  /title/tt2718440/    Movie                              Moonwalkers   \n",
       "13  /title/tt3621360/    Movie                           Rolling Papers   \n",
       "14  /title/tt1772264/    Movie                       Stonehearst Asylum   \n",
       "15  /title/tt3687398/    Movie                               The Runner   \n",
       "16  /title/tt3799372/    Movie                                  6 Years   \n",
       "17  /title/tt2101442/  TV Show                          Castle of Stars   \n",
       "18  /title/tt8893502/  TV Show                           First and Last   \n",
       "19  /title/tt2063782/    Movie                                Laddaland   \n",
       "\n",
       "    release_year seasons movie_duration  average_rating  number_rating  \\\n",
       "0           2019     NaN             90             3.1            235   \n",
       "1           2016     NaN             94             5.3             15   \n",
       "2           2013       1            NaN             7.8           4891   \n",
       "3           2016       1            NaN             6.0            764   \n",
       "4           2017     NaN             99             5.2           4866   \n",
       "5           2016       1            NaN             6.8            182   \n",
       "6           2014     NaN            110             6.1          52169   \n",
       "7           2017     NaN             60             5.1             20   \n",
       "8           2017       1            NaN             6.6            285   \n",
       "9           2014     NaN             90             5.5          14755   \n",
       "10          2015     NaN             95             6.1          18366   \n",
       "11          2014     NaN             98             5.5           1120   \n",
       "12          2015     NaN             96             6.1           8072   \n",
       "13          2015     NaN             79             6.2            429   \n",
       "14          2014     NaN            113             6.8          48041   \n",
       "15          2015     NaN             90             4.7           4723   \n",
       "16          2015     NaN             80             5.6          10589   \n",
       "17          2015       1            NaN             6.6              5   \n",
       "18          2018       1            NaN             6.7            285   \n",
       "19          2011     NaN            112             6.3           1719   \n",
       "\n",
       "                           director  \\\n",
       "0          Richard Finn, Tim Maltby   \n",
       "1                               NaN   \n",
       "2                               NaN   \n",
       "3                               NaN   \n",
       "4                  Fernando Lebrija   \n",
       "5                               NaN   \n",
       "6                       Gabe Ibáñez   \n",
       "7   Rodrigo Toro, Francisco Schultz   \n",
       "8                               NaN   \n",
       "9                 Henrik Ruben Genz   \n",
       "10                 Daniel Alfredson   \n",
       "11                      Tom O'Brien   \n",
       "12           Antoine Bardou-Jacquet   \n",
       "13                    Mitch Dickman   \n",
       "14                    Brad Anderson   \n",
       "15                     Austin Stark   \n",
       "16                    Hannah Fidell   \n",
       "17                              NaN   \n",
       "18                              NaN   \n",
       "19                 Sopon Sukdapisit   \n",
       "\n",
<<<<<<< HEAD
       "                                              casting  \\\n",
       "0   Alan Marriott, Andrew Toth, Brian Dobson, Cole...   \n",
       "1                                    Jandino Asporaat   \n",
       "2   Peter Cullen, Sumalee Montano, Frank Welker, J...   \n",
       "3   Will Friedle, Darren Criss, Constance Zimmer, ...   \n",
       "4   Nesta Cooper, Kate Walsh, John Michael Higgins...   \n",
       "5   Alberto Ammann, Eloy Azorín, Verónica Echegui,...   \n",
       "6   Antonio Banderas, Dylan McDermott, Melanie Gri...   \n",
       "7                                     Fabrizio Copano   \n",
       "8                                                 NaN   \n",
       "9   James Franco, Kate Hudson, Tom Wilkinson, Omar...   \n",
       "10  Jim Sturgess, Sam Worthington, Ryan Kwanten, A...   \n",
       "11  Tom O'Brien, Katherine Waterston, Caitlin Fitz...   \n",
       "12  Ron Perlman, Rupert Grint, Robert Sheehan, Ste...   \n",
       "13                                                NaN   \n",
       "14  Kate Beckinsale, Jim Sturgess, David Thewlis, ...   \n",
       "15  Nicolas Cage, Sarah Paulson, Connie Nielsen, W...   \n",
       "16  Taissa Farmiga, Ben Rosenfield, Lindsay Burdge...   \n",
       "17  Chaiyapol Pupart, Jintanutda Lummakanon, Worra...   \n",
       "18                                                NaN   \n",
       "19  Saharat Sangkapreecha, Pok Piyatida Woramusik,...   \n",
       "\n",
       "                                              country         date_added  \\\n",
       "0            United States, India, South Korea, China  September 9, 2019   \n",
       "1                                      United Kingdom  September 9, 2016   \n",
       "2                                       United States  September 8, 2018   \n",
       "3                                       United States  September 8, 2018   \n",
       "4                                       United States  September 8, 2017   \n",
       "5                                               Spain  September 8, 2017   \n",
       "6              Bulgaria, United States, Spain, Canada  September 8, 2017   \n",
       "7                                               Chile  September 8, 2017   \n",
       "8                                       United States  September 8, 2017   \n",
       "9      United States, United Kingdom, Denmark, Sweden  September 8, 2017   \n",
       "10  Netherlands, Belgium, United Kingdom, United S...  September 8, 2017   \n",
       "11                                      United States  September 8, 2017   \n",
       "12                                    France, Belgium  September 8, 2017   \n",
       "13                             United States, Uruguay  September 8, 2017   \n",
       "14                                      United States  September 8, 2017   \n",
       "15                                      United States  September 8, 2017   \n",
       "16                                      United States  September 8, 2015   \n",
       "17                                                NaN  September 7, 2018   \n",
       "18                                                NaN  September 7, 2018   \n",
       "19                                           Thailand  September 7, 2018   \n",
       "\n",
       "   parental_guideline                                          listed_in  \\\n",
       "0               TV-PG                 Children & Family Movies, Comedies   \n",
       "1               TV-MA                                    Stand-Up Comedy   \n",
       "2            TV-Y7-FV                                           Kids' TV   \n",
       "3               TV-Y7                                           Kids' TV   \n",
       "4               TV-14                                           Comedies   \n",
       "5               TV-MA  Crime TV Shows, International TV Shows, Spanis...   \n",
       "6                   R  International Movies, Sci-Fi & Fantasy, Thrillers   \n",
       "7               TV-MA                                    Stand-Up Comedy   \n",
       "8               TV-MA                    Docuseries, Science & Nature TV   \n",
       "9                   R                      Action & Adventure, Thrillers   \n",
       "10                  R   Action & Adventure, Dramas, International Movies   \n",
       "11              TV-14      Comedies, Independent Movies, Romantic Movies   \n",
       "12                  R  Action & Adventure, Comedies, International Mo...   \n",
       "13              TV-MA                                      Documentaries   \n",
       "14              PG-13                           Horror Movies, Thrillers   \n",
       "15                  R                         Dramas, Independent Movies   \n",
       "16                 NR        Dramas, Independent Movies, Romantic Movies   \n",
       "17              TV-14  International TV Shows, Romantic TV Shows, TV ...   \n",
       "18              TV-MA                                         Docuseries   \n",
       "19              TV-MA                Horror Movies, International Movies   \n",
       "\n",
       "                                              summary  \n",
       "0   Before planning an awesome wedding for his gra...  \n",
       "1   Jandino Asporaat riffs on the challenges of ra...  \n",
       "2   With the help of three human allies, the Autob...  \n",
       "3   When a prison ship crash unleashes hundreds of...  \n",
       "4   When nerdy high schooler Dani finally attracts...  \n",
       "5   A young journalist is forced into a life of cr...  \n",
       "6   In a dystopian future, an insurance adjuster f...  \n",
       "7   Fabrizio Copano takes audience participation t...  \n",
       "8   As California's 2016 fire season rages, brave ...  \n",
       "9   A struggling couple can't believe their luck w...  \n",
       "10  When beer magnate Alfred \"Freddy\" Heineken is ...  \n",
       "11  A filmmaker working on a documentary about lov...  \n",
       "12  A brain-addled war vet, a failing band manager...  \n",
       "13  As the newspaper industry takes a hit, The Den...  \n",
       "14  In 1899, a young doctor arrives at an asylum f...  \n",
       "15  A New Orleans politician finds his idealistic ...  \n",
       "16  As a volatile young couple who have been toget...  \n",
       "17  As four couples with different lifestyles go t...  \n",
       "18  Take an intimate look at the emotionally charg...  \n",
       "19  When a family moves into an upscale housing de...  "
      ],
      "text/html": "<div>\n<style scoped>\n    .dataframe tbody tr th:only-of-type {\n        vertical-align: middle;\n    }\n\n    .dataframe tbody tr th {\n        vertical-align: top;\n    }\n\n    .dataframe thead th {\n        text-align: right;\n    }\n</style>\n<table border=\"1\" class=\"dataframe\">\n  <thead>\n    <tr style=\"text-align: right;\">\n      <th></th>\n      <th>IMDB_titleID</th>\n      <th>category</th>\n      <th>title</th>\n      <th>release_year</th>\n      <th>seasons</th>\n      <th>movie_duration</th>\n      <th>average_rating</th>\n      <th>number_rating</th>\n      <th>director</th>\n      <th>casting</th>\n      <th>country</th>\n      <th>date_added</th>\n      <th>parental_guideline</th>\n      <th>listed_in</th>\n      <th>summary</th>\n    </tr>\n  </thead>\n  <tbody>\n    <tr>\n      <th>0</th>\n      <td>/title/tt9428190/</td>\n      <td>Movie</td>\n      <td>Norm of the North: King Sized Adventure</td>\n      <td>2019</td>\n      <td>NaN</td>\n      <td>90</td>\n      <td>3.1</td>\n      <td>235</td>\n      <td>Richard Finn, Tim Maltby</td>\n      <td>Alan Marriott, Andrew Toth, Brian Dobson, Cole...</td>\n      <td>United States, India, South Korea, China</td>\n      <td>September 9, 2019</td>\n      <td>TV-PG</td>\n      <td>Children &amp; Family Movies, Comedies</td>\n      <td>Before planning an awesome wedding for his gra...</td>\n    </tr>\n    <tr>\n      <th>1</th>\n      <td>/title/tt6999080/</td>\n      <td>Movie</td>\n      <td>Jandino: Whatever it Takes</td>\n      <td>2016</td>\n      <td>NaN</td>\n      <td>94</td>\n      <td>5.3</td>\n      <td>15</td>\n      <td>NaN</td>\n      <td>Jandino Asporaat</td>\n      <td>United Kingdom</td>\n      <td>September 9, 2016</td>\n      <td>TV-MA</td>\n      <td>Stand-Up Comedy</td>\n      <td>Jandino Asporaat riffs on the challenges of ra...</td>\n    </tr>\n    <tr>\n      <th>2</th>\n      <td>/title/tt1659175/</td>\n      <td>TV Show</td>\n      <td>Transformers Prime</td>\n      <td>2013</td>\n      <td>1</td>\n      <td>NaN</td>\n      <td>7.8</td>\n      <td>4891</td>\n      <td>NaN</td>\n      <td>Peter Cullen, Sumalee Montano, Frank Welker, J...</td>\n      <td>United States</td>\n      <td>September 8, 2018</td>\n      <td>TV-Y7-FV</td>\n      <td>Kids' TV</td>\n      <td>With the help of three human allies, the Autob...</td>\n    </tr>\n    <tr>\n      <th>3</th>\n      <td>/title/tt3604232/</td>\n      <td>TV Show</td>\n      <td>Transformers: Robots in Disguise</td>\n      <td>2016</td>\n      <td>1</td>\n      <td>NaN</td>\n      <td>6.0</td>\n      <td>764</td>\n      <td>NaN</td>\n      <td>Will Friedle, Darren Criss, Constance Zimmer, ...</td>\n      <td>United States</td>\n      <td>September 8, 2018</td>\n      <td>TV-Y7</td>\n      <td>Kids' TV</td>\n      <td>When a prison ship crash unleashes hundreds of...</td>\n    </tr>\n    <tr>\n      <th>4</th>\n      <td>/title/tt6119504/</td>\n      <td>Movie</td>\n      <td>#realityhigh</td>\n      <td>2017</td>\n      <td>NaN</td>\n      <td>99</td>\n      <td>5.2</td>\n      <td>4866</td>\n      <td>Fernando Lebrija</td>\n      <td>Nesta Cooper, Kate Walsh, John Michael Higgins...</td>\n      <td>United States</td>\n      <td>September 8, 2017</td>\n      <td>TV-14</td>\n      <td>Comedies</td>\n      <td>When nerdy high schooler Dani finally attracts...</td>\n    </tr>\n    <tr>\n      <th>5</th>\n      <td>/title/tt4418844/</td>\n      <td>TV Show</td>\n      <td>Apaches</td>\n      <td>2016</td>\n      <td>1</td>\n      <td>NaN</td>\n      <td>6.8</td>\n      <td>182</td>\n      <td>NaN</td>\n      <td>Alberto Ammann, Eloy Azorín, Verónica Echegui,...</td>\n      <td>Spain</td>\n      <td>September 8, 2017</td>\n      <td>TV-MA</td>\n      <td>Crime TV Shows, International TV Shows, Spanis...</td>\n      <td>A young journalist is forced into a life of cr...</td>\n    </tr>\n    <tr>\n      <th>6</th>\n      <td>/title/tt1971325/</td>\n      <td>Movie</td>\n      <td>Automata</td>\n      <td>2014</td>\n      <td>NaN</td>\n      <td>110</td>\n      <td>6.1</td>\n      <td>52169</td>\n      <td>Gabe Ibáñez</td>\n      <td>Antonio Banderas, Dylan McDermott, Melanie Gri...</td>\n      <td>Bulgaria, United States, Spain, Canada</td>\n      <td>September 8, 2017</td>\n      <td>R</td>\n      <td>International Movies, Sci-Fi &amp; Fantasy, Thrillers</td>\n      <td>In a dystopian future, an insurance adjuster f...</td>\n    </tr>\n    <tr>\n      <th>7</th>\n      <td>/title/tt8134310/</td>\n      <td>Movie</td>\n      <td>Fabrizio Copano: Solo pienso en mi</td>\n      <td>2017</td>\n      <td>NaN</td>\n      <td>60</td>\n      <td>5.1</td>\n      <td>20</td>\n      <td>Rodrigo Toro, Francisco Schultz</td>\n      <td>Fabrizio Copano</td>\n      <td>Chile</td>\n      <td>September 8, 2017</td>\n      <td>TV-MA</td>\n      <td>Stand-Up Comedy</td>\n      <td>Fabrizio Copano takes audience participation t...</td>\n    </tr>\n    <tr>\n      <th>8</th>\n      <td>/title/tt7293754/</td>\n      <td>TV Show</td>\n      <td>Fire Chasers</td>\n      <td>2017</td>\n      <td>1</td>\n      <td>NaN</td>\n      <td>6.6</td>\n      <td>285</td>\n      <td>NaN</td>\n      <td>NaN</td>\n      <td>United States</td>\n      <td>September 8, 2017</td>\n      <td>TV-MA</td>\n      <td>Docuseries, Science &amp; Nature TV</td>\n      <td>As California's 2016 fire season rages, brave ...</td>\n    </tr>\n    <tr>\n      <th>9</th>\n      <td>/title/tt1361318/</td>\n      <td>Movie</td>\n      <td>Good People</td>\n      <td>2014</td>\n      <td>NaN</td>\n      <td>90</td>\n      <td>5.5</td>\n      <td>14755</td>\n      <td>Henrik Ruben Genz</td>\n      <td>James Franco, Kate Hudson, Tom Wilkinson, Omar...</td>\n      <td>United States, United Kingdom, Denmark, Sweden</td>\n      <td>September 8, 2017</td>\n      <td>R</td>\n      <td>Action &amp; Adventure, Thrillers</td>\n      <td>A struggling couple can't believe their luck w...</td>\n    </tr>\n    <tr>\n      <th>10</th>\n      <td>/title/tt2917388/</td>\n      <td>Movie</td>\n      <td>Kidnapping Mr. Heineken</td>\n      <td>2015</td>\n      <td>NaN</td>\n      <td>95</td>\n      <td>6.1</td>\n      <td>18366</td>\n      <td>Daniel Alfredson</td>\n      <td>Jim Sturgess, Sam Worthington, Ryan Kwanten, A...</td>\n      <td>Netherlands, Belgium, United Kingdom, United S...</td>\n      <td>September 8, 2017</td>\n      <td>R</td>\n      <td>Action &amp; Adventure, Dramas, International Movies</td>\n      <td>When beer magnate Alfred \"Freddy\" Heineken is ...</td>\n    </tr>\n    <tr>\n      <th>11</th>\n      <td>/title/tt2608324/</td>\n      <td>Movie</td>\n      <td>Manhattan Romance</td>\n      <td>2014</td>\n      <td>NaN</td>\n      <td>98</td>\n      <td>5.5</td>\n      <td>1120</td>\n      <td>Tom O'Brien</td>\n      <td>Tom O'Brien, Katherine Waterston, Caitlin Fitz...</td>\n      <td>United States</td>\n      <td>September 8, 2017</td>\n      <td>TV-14</td>\n      <td>Comedies, Independent Movies, Romantic Movies</td>\n      <td>A filmmaker working on a documentary about lov...</td>\n    </tr>\n    <tr>\n      <th>12</th>\n      <td>/title/tt2718440/</td>\n      <td>Movie</td>\n      <td>Moonwalkers</td>\n      <td>2015</td>\n      <td>NaN</td>\n      <td>96</td>\n      <td>6.1</td>\n      <td>8072</td>\n      <td>Antoine Bardou-Jacquet</td>\n      <td>Ron Perlman, Rupert Grint, Robert Sheehan, Ste...</td>\n      <td>France, Belgium</td>\n      <td>September 8, 2017</td>\n      <td>R</td>\n      <td>Action &amp; Adventure, Comedies, International Mo...</td>\n      <td>A brain-addled war vet, a failing band manager...</td>\n    </tr>\n    <tr>\n      <th>13</th>\n      <td>/title/tt3621360/</td>\n      <td>Movie</td>\n      <td>Rolling Papers</td>\n      <td>2015</td>\n      <td>NaN</td>\n      <td>79</td>\n      <td>6.2</td>\n      <td>429</td>\n      <td>Mitch Dickman</td>\n      <td>NaN</td>\n      <td>United States, Uruguay</td>\n      <td>September 8, 2017</td>\n      <td>TV-MA</td>\n      <td>Documentaries</td>\n      <td>As the newspaper industry takes a hit, The Den...</td>\n    </tr>\n    <tr>\n      <th>14</th>\n      <td>/title/tt1772264/</td>\n      <td>Movie</td>\n      <td>Stonehearst Asylum</td>\n      <td>2014</td>\n      <td>NaN</td>\n      <td>113</td>\n      <td>6.8</td>\n      <td>48041</td>\n      <td>Brad Anderson</td>\n      <td>Kate Beckinsale, Jim Sturgess, David Thewlis, ...</td>\n      <td>United States</td>\n      <td>September 8, 2017</td>\n      <td>PG-13</td>\n      <td>Horror Movies, Thrillers</td>\n      <td>In 1899, a young doctor arrives at an asylum f...</td>\n    </tr>\n    <tr>\n      <th>15</th>\n      <td>/title/tt3687398/</td>\n      <td>Movie</td>\n      <td>The Runner</td>\n      <td>2015</td>\n      <td>NaN</td>\n      <td>90</td>\n      <td>4.7</td>\n      <td>4723</td>\n      <td>Austin Stark</td>\n      <td>Nicolas Cage, Sarah Paulson, Connie Nielsen, W...</td>\n      <td>United States</td>\n      <td>September 8, 2017</td>\n      <td>R</td>\n      <td>Dramas, Independent Movies</td>\n      <td>A New Orleans politician finds his idealistic ...</td>\n    </tr>\n    <tr>\n      <th>16</th>\n      <td>/title/tt3799372/</td>\n      <td>Movie</td>\n      <td>6 Years</td>\n      <td>2015</td>\n      <td>NaN</td>\n      <td>80</td>\n      <td>5.6</td>\n      <td>10589</td>\n      <td>Hannah Fidell</td>\n      <td>Taissa Farmiga, Ben Rosenfield, Lindsay Burdge...</td>\n      <td>United States</td>\n      <td>September 8, 2015</td>\n      <td>NR</td>\n      <td>Dramas, Independent Movies, Romantic Movies</td>\n      <td>As a volatile young couple who have been toget...</td>\n    </tr>\n    <tr>\n      <th>17</th>\n      <td>/title/tt2101442/</td>\n      <td>TV Show</td>\n      <td>Castle of Stars</td>\n      <td>2015</td>\n      <td>1</td>\n      <td>NaN</td>\n      <td>6.6</td>\n      <td>5</td>\n      <td>NaN</td>\n      <td>Chaiyapol Pupart, Jintanutda Lummakanon, Worra...</td>\n      <td>NaN</td>\n      <td>September 7, 2018</td>\n      <td>TV-14</td>\n      <td>International TV Shows, Romantic TV Shows, TV ...</td>\n      <td>As four couples with different lifestyles go t...</td>\n    </tr>\n    <tr>\n      <th>18</th>\n      <td>/title/tt8893502/</td>\n      <td>TV Show</td>\n      <td>First and Last</td>\n      <td>2018</td>\n      <td>1</td>\n      <td>NaN</td>\n      <td>6.7</td>\n      <td>285</td>\n      <td>NaN</td>\n      <td>NaN</td>\n      <td>NaN</td>\n      <td>September 7, 2018</td>\n      <td>TV-MA</td>\n      <td>Docuseries</td>\n      <td>Take an intimate look at the emotionally charg...</td>\n    </tr>\n    <tr>\n      <th>19</th>\n      <td>/title/tt2063782/</td>\n      <td>Movie</td>\n      <td>Laddaland</td>\n      <td>2011</td>\n      <td>NaN</td>\n      <td>112</td>\n      <td>6.3</td>\n      <td>1719</td>\n      <td>Sopon Sukdapisit</td>\n      <td>Saharat Sangkapreecha, Pok Piyatida Woramusik,...</td>\n      <td>Thailand</td>\n      <td>September 7, 2018</td>\n      <td>TV-MA</td>\n      <td>Horror Movies, International Movies</td>\n      <td>When a family moves into an upscale housing de...</td>\n    </tr>\n  </tbody>\n</table>\n</div>"
     },
     "metadata": {},
     "execution_count": 29
=======
       "                                             casting  \\\n",
       "0  Alan Marriott, Andrew Toth, Brian Dobson, Cole...   \n",
       "1                                   Jandino Asporaat   \n",
       "2  Peter Cullen, Sumalee Montano, Frank Welker, J...   \n",
       "3  Will Friedle, Darren Criss, Constance Zimmer, ...   \n",
       "4  Nesta Cooper, Kate Walsh, John Michael Higgins...   \n",
       "\n",
       "                                    country         date_added  \\\n",
       "0  United States, India, South Korea, China  September 9, 2019   \n",
       "1                            United Kingdom  September 9, 2016   \n",
       "2                             United States  September 8, 2018   \n",
       "3                             United States  September 8, 2018   \n",
       "4                             United States  September 8, 2017   \n",
       "\n",
       "  parental_guideline                           listed_in  \\\n",
       "0              TV-PG  Children & Family Movies, Comedies   \n",
       "1              TV-MA                     Stand-Up Comedy   \n",
       "2           TV-Y7-FV                            Kids' TV   \n",
       "3              TV-Y7                            Kids' TV   \n",
       "4              TV-14                            Comedies   \n",
       "\n",
       "                                             summary  \n",
       "0  Before planning an awesome wedding for his gra...  \n",
       "1  Jandino Asporaat riffs on the challenges of ra...  \n",
       "2  With the help of three human allies, the Autob...  \n",
       "3  When a prison ship crash unleashes hundreds of...  \n",
       "4  When nerdy high schooler Dani finally attracts...  "
      ],
      "text/html": "<div>\n<style scoped>\n    .dataframe tbody tr th:only-of-type {\n        vertical-align: middle;\n    }\n\n    .dataframe tbody tr th {\n        vertical-align: top;\n    }\n\n    .dataframe thead th {\n        text-align: right;\n    }\n</style>\n<table border=\"1\" class=\"dataframe\">\n  <thead>\n    <tr style=\"text-align: right;\">\n      <th></th>\n      <th>IMDB_titleID</th>\n      <th>type</th>\n      <th>title</th>\n      <th>release_year</th>\n      <th>seasons</th>\n      <th>movie_duration</th>\n      <th>average_rating</th>\n      <th>number_rating</th>\n      <th>director</th>\n      <th>casting</th>\n      <th>country</th>\n      <th>date_added</th>\n      <th>parental_guideline</th>\n      <th>listed_in</th>\n      <th>summary</th>\n    </tr>\n  </thead>\n  <tbody>\n    <tr>\n      <th>0</th>\n      <td>/title/tt9428190/</td>\n      <td>Movie</td>\n      <td>Norm of the North: King Sized Adventure</td>\n      <td>2019</td>\n      <td>NaN</td>\n      <td>90</td>\n      <td>3.1</td>\n      <td>235</td>\n      <td>Richard Finn, Tim Maltby</td>\n      <td>Alan Marriott, Andrew Toth, Brian Dobson, Cole...</td>\n      <td>United States, India, South Korea, China</td>\n      <td>September 9, 2019</td>\n      <td>TV-PG</td>\n      <td>Children &amp; Family Movies, Comedies</td>\n      <td>Before planning an awesome wedding for his gra...</td>\n    </tr>\n    <tr>\n      <th>1</th>\n      <td>/title/tt6999080/</td>\n      <td>Movie</td>\n      <td>Jandino: Whatever it Takes</td>\n      <td>2016</td>\n      <td>NaN</td>\n      <td>94</td>\n      <td>5.3</td>\n      <td>15</td>\n      <td>NaN</td>\n      <td>Jandino Asporaat</td>\n      <td>United Kingdom</td>\n      <td>September 9, 2016</td>\n      <td>TV-MA</td>\n      <td>Stand-Up Comedy</td>\n      <td>Jandino Asporaat riffs on the challenges of ra...</td>\n    </tr>\n    <tr>\n      <th>2</th>\n      <td>/title/tt1659175/</td>\n      <td>TV Show</td>\n      <td>Transformers Prime</td>\n      <td>2013</td>\n      <td>1</td>\n      <td>NaN</td>\n      <td>7.8</td>\n      <td>4891</td>\n      <td>NaN</td>\n      <td>Peter Cullen, Sumalee Montano, Frank Welker, J...</td>\n      <td>United States</td>\n      <td>September 8, 2018</td>\n      <td>TV-Y7-FV</td>\n      <td>Kids' TV</td>\n      <td>With the help of three human allies, the Autob...</td>\n    </tr>\n    <tr>\n      <th>3</th>\n      <td>/title/tt3604232/</td>\n      <td>TV Show</td>\n      <td>Transformers: Robots in Disguise</td>\n      <td>2016</td>\n      <td>1</td>\n      <td>NaN</td>\n      <td>6.0</td>\n      <td>764</td>\n      <td>NaN</td>\n      <td>Will Friedle, Darren Criss, Constance Zimmer, ...</td>\n      <td>United States</td>\n      <td>September 8, 2018</td>\n      <td>TV-Y7</td>\n      <td>Kids' TV</td>\n      <td>When a prison ship crash unleashes hundreds of...</td>\n    </tr>\n    <tr>\n      <th>4</th>\n      <td>/title/tt6119504/</td>\n      <td>Movie</td>\n      <td>#realityhigh</td>\n      <td>2017</td>\n      <td>NaN</td>\n      <td>99</td>\n      <td>5.2</td>\n      <td>4866</td>\n      <td>Fernando Lebrija</td>\n      <td>Nesta Cooper, Kate Walsh, John Michael Higgins...</td>\n      <td>United States</td>\n      <td>September 8, 2017</td>\n      <td>TV-14</td>\n      <td>Comedies</td>\n      <td>When nerdy high schooler Dani finally attracts...</td>\n    </tr>\n  </tbody>\n</table>\n</div>"
     },
     "metadata": {},
     "execution_count": 17
>>>>>>> 0eb32ec97ac001db4dd542cf313229bc1af3b5ef
    }
   ],
   "source": [
    "df = df[['IMDB_titleID',\n",
    "'category',\n",
    "'title',\n",
    "'release_year',\n",
    "'seasons',\n",
    "'movie_duration',\n",
    "'average_rating',\n",
    "'number_rating',\n",
    "'director',\n",
    "'casting',\n",
    "'country',\n",
    "'date_added',\n",
    "'parental_guideline',\n",
    "'listed_in',\n",
    "'summary'\n",
    "]]\n",
    "df = df.reset_index(drop=True)\n",
    "df.head(20)"
   ]
  },
  {
   "cell_type": "code",
<<<<<<< HEAD
   "execution_count": 30,
=======
   "execution_count": 18,
>>>>>>> 0eb32ec97ac001db4dd542cf313229bc1af3b5ef
   "metadata": {},
   "outputs": [],
   "source": [
    "df.to_csv('../Netflix_Library_join_IMDB_rating.csv', sep='|')"
   ]
  }
 ],
 "metadata": {
  "kernelspec": {
   "display_name": "Python 3.8.6 64-bit",
   "language": "python",
   "name": "python38664bit42bca6a812594c339d0d1f3024002f21"
  },
  "language_info": {
   "codemirror_mode": {
    "name": "ipython",
    "version": 3
   },
   "file_extension": ".py",
   "mimetype": "text/x-python",
   "name": "python",
   "nbconvert_exporter": "python",
   "pygments_lexer": "ipython3",
   "version": "3.8.6-final"
  },
  "toc": {
   "base_numbering": 1,
   "nav_menu": {},
   "number_sections": true,
   "sideBar": true,
   "skip_h1_title": false,
   "title_cell": "Table of Contents",
   "title_sidebar": "Contents",
   "toc_cell": false,
   "toc_position": {},
   "toc_section_display": true,
   "toc_window_display": false
  }
 },
 "nbformat": 4,
 "nbformat_minor": 4
}